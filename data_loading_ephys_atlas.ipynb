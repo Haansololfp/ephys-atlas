{
 "cells": [
  {
   "cell_type": "code",
   "execution_count": 2,
   "id": "4a73c608",
   "metadata": {
    "tags": []
   },
   "outputs": [],
   "source": [
    "import pandas as pd\n",
    "from pathlib import Path\n",
    "from one.remote import aws\n",
    "from one.api import ONE"
   ]
  },
  {
   "cell_type": "code",
   "execution_count": 3,
   "id": "65190aec",
   "metadata": {
    "tags": []
   },
   "outputs": [],
   "source": [
    "LOCAL_DATA_PATH = Path(\"/moto/stats/users/hy2562/projects/ephys atlas\")\n"
   ]
  },
  {
   "cell_type": "code",
   "execution_count": 4,
   "id": "0ac82e44-ad2f-4a3e-b0d5-9a1ad6845650",
   "metadata": {
    "tags": []
   },
   "outputs": [
    {
     "name": "stdin",
     "output_type": "stream",
     "text": [
      "Param ALYX_LOGIN, current value is [\"han.yu\"]: \n",
      "Param HTTP_DATA_SERVER, current value is [\"https://ibl.flatironinstitute.org/public\"]: \n",
      "Param HTTP_DATA_SERVER_LOGIN, current value is [\"None\"]: \n",
      "Enter the FlatIron HTTP password for None (leave empty to keep current):  ········\n",
      "Enter the location of the download cache, current value is [\"/moto/home/hy2562/Downloads/ONE/alyx.internationalbrainlab.org\"]: \n",
      "Are the above settings correct? [Y/n] y\n"
     ]
    },
    {
     "name": "stdout",
     "output_type": "stream",
     "text": [
      "ONE Parameter files location: /moto/home/hy2562/.one\n"
     ]
    },
    {
     "data": {
      "text/plain": [
       "IBLParams(CLIENT_MAP={'alyx.internationalbrainlab.org': '/moto/home/hy2562/Downloads/ONE/alyx.internationalbrainlab.org', 'test.alyx.internationalbrainlab.org': '/moto/home/hy2562/Downloads/ONE/test.alyx.internationalbrainlab.org'}, DEFAULT='alyx.internationalbrainlab.org')"
      ]
     },
     "execution_count": 4,
     "metadata": {},
     "output_type": "execute_result"
    }
   ],
   "source": [
    "ONE.setup(base_url='https://alyx.internationalbrainlab.org', make_default=True)"
   ]
  },
  {
   "cell_type": "code",
   "execution_count": 7,
   "id": "8e0cac8b-4544-4a28-b13d-d41c0c73b38e",
   "metadata": {
    "tags": []
   },
   "outputs": [],
   "source": [
    "sessions = one.alyx.rest('sessions', 'list', tag='2022_Q2_IBL_et_al_RepeatedSite')"
   ]
  },
  {
   "cell_type": "code",
   "execution_count": 14,
   "id": "f403ad6d-7935-444a-b22d-092f9610d127",
   "metadata": {
    "tags": []
   },
   "outputs": [
    {
     "name": "stderr",
     "output_type": "stream",
     "text": [
      "/moto/stats/users/hy2562/mambaforge/envs/a/lib/python3.10/site-packages/one/api.py:472: FutureWarning: The behavior of indexing on a MultiIndex with a nested sequence of labels is deprecated and will change in a future version. `series.loc[label, sequence]` will raise if any members of 'sequence' or not present in the index's second level. To retain the old behavior, use `series.index.isin(sequence, level=1)`\n",
      "  datasets = datasets.loc[(sessions.index.values, ), :]\n"
     ]
    }
   ],
   "source": [
    "eids, info = one.search(date_range=['2020-08-01', '2020-08-31'], dataset='probes.description', details=True)\n"
   ]
  },
  {
   "cell_type": "code",
   "execution_count": 15,
   "id": "abc5eb8b-a26a-4075-be33-6f32ee9ec205",
   "metadata": {
    "tags": []
   },
   "outputs": [],
   "source": [
    "eID = eids[0]"
   ]
  },
  {
   "cell_type": "code",
   "execution_count": 16,
   "id": "33054e1d-ce26-43fa-b749-3767238faeae",
   "metadata": {
    "tags": []
   },
   "outputs": [
    {
     "name": "stderr",
     "output_type": "stream",
     "text": [
      "/moto/home/hy2562/Downloads/ONE/alyx.internationalbrainlab.org/mrsicflogellab/Subjects/SWC_045/2020-08-28/001/al\n"
     ]
    }
   ],
   "source": [
    "one = ONE(base_url=\"https://alyx.internationalbrainlab.org\")\n",
    "\n",
    "st = one.load_dataset(eID, 'spikes.times', collection = \"alf/probe01\") "
   ]
  },
  {
   "cell_type": "code",
   "execution_count": 19,
   "id": "c7b46905-000f-4ace-891d-6fb58a9d97ec",
   "metadata": {
    "tags": []
   },
   "outputs": [
    {
     "name": "stderr",
     "output_type": "stream",
     "text": [
      "/moto/home/hy2562/Downloads/ONE/alyx.internationalbrainlab.org/mrsicflogellab/Subjects/SWC_045/2020-08-28/001/al\n"
     ]
    }
   ],
   "source": [
    "sc = one.load_dataset(eID, 'spikes.clusters', collection = \"alf/probe01\") "
   ]
  },
  {
   "cell_type": "code",
   "execution_count": null,
   "id": "5f84b4ee-ae87-4572-b8e0-b7efb992c6a5",
   "metadata": {},
   "outputs": [],
   "source": [
    "wf = one.load_dataset(eID, 'spikes.clusters', collection = \"alf/probe01\") "
   ]
  },
  {
   "cell_type": "code",
   "execution_count": 18,
   "id": "3531931e-f654-4bc2-a4ca-343058694a4f",
   "metadata": {
    "tags": []
   },
   "outputs": [
    {
     "data": {
      "text/plain": [
       "(9895411,)"
      ]
     },
     "execution_count": 18,
     "metadata": {},
     "output_type": "execute_result"
    }
   ],
   "source": [
    "import numpy as np\n",
    "np.shape(st)"
   ]
  },
  {
   "cell_type": "code",
   "execution_count": 21,
   "id": "db571b7f-2011-4e47-be95-67c7c0cea329",
   "metadata": {
    "tags": []
   },
   "outputs": [
    {
     "data": {
      "text/plain": [
       "array([  0,   1,   2,   3,   4,   5,   6,   8,   9,  12,  13,  14,  15,\n",
       "        16,  17,  19,  21,  22,  23,  24,  25,  26,  27,  29,  31,  32,\n",
       "        33,  34,  35,  36,  37,  38,  39,  40,  41,  42,  43,  45,  46,\n",
       "        47,  48,  49,  50,  51,  52,  53,  54,  55,  56,  57,  59,  61,\n",
       "        63,  65,  66,  67,  68,  69,  70,  72,  73,  74,  75,  76,  77,\n",
       "        78,  79,  80,  81,  82,  83,  85,  86,  87,  88,  89,  90,  91,\n",
       "        92,  93,  94,  95,  96,  97,  98,  99, 100, 101, 102, 103, 104,\n",
       "       105, 106, 107, 108, 109, 110, 111, 112, 113, 115, 116, 118, 119,\n",
       "       122, 123, 124, 125, 126, 129, 130, 131, 132, 133, 134, 135, 136,\n",
       "       137, 138, 139, 140, 142, 143, 144, 145, 146, 147, 148, 149, 150,\n",
       "       151, 152, 153, 154, 155, 156, 157, 158, 159, 160, 161, 162, 163,\n",
       "       164, 165, 166, 167, 168, 169, 170, 171, 172, 173, 175, 177, 178,\n",
       "       179, 180, 181, 182, 183, 184, 185, 186, 188, 189, 190, 191, 192,\n",
       "       193, 194, 195, 196, 197, 198, 199, 200, 201, 202, 203, 204, 205,\n",
       "       206, 207, 208, 209, 210, 211, 212, 213, 214, 215, 216, 217, 218,\n",
       "       219, 220, 221, 222, 223, 224, 225, 226, 227, 228, 229, 230, 231,\n",
       "       232, 233, 234, 235, 236, 237, 238, 239, 240, 241, 242, 243, 244,\n",
       "       245, 246, 247, 248, 249, 250, 251, 252, 253, 254, 255, 256, 257,\n",
       "       258, 259, 260, 261, 262, 263, 265, 266, 267, 268, 270, 271, 272,\n",
       "       273, 274, 275, 276, 277, 278, 279, 280, 281, 282, 283, 284, 285,\n",
       "       286, 287, 288, 289, 290, 292, 293, 294, 295, 296, 297, 298, 299,\n",
       "       300, 301, 302, 303, 304, 305, 306, 307, 308, 309, 310, 311, 312,\n",
       "       313, 314, 315, 316, 317, 318, 319, 320, 321, 322, 323, 324, 325,\n",
       "       326, 327, 328, 329, 330, 331, 332, 333, 334, 335, 336, 337, 338,\n",
       "       339, 340, 341, 342, 344, 345, 346, 347, 348, 349, 350, 351, 352,\n",
       "       353, 354, 355, 356, 357, 358, 359, 360, 361, 362, 363, 364, 365,\n",
       "       366, 367, 368, 369, 370, 371, 372, 373, 374, 375, 376, 377, 378,\n",
       "       379, 380, 381, 382, 383, 384, 385, 386, 387, 388, 389, 390, 391,\n",
       "       392, 393, 394, 395, 396, 397, 398, 399, 400, 401, 402, 403, 404,\n",
       "       405, 406, 407, 408, 409, 410, 411, 412, 413, 414, 415, 416, 417,\n",
       "       418, 419, 420, 421, 422, 423, 424, 425, 426], dtype=uint32)"
      ]
     },
     "execution_count": 21,
     "metadata": {},
     "output_type": "execute_result"
    }
   ],
   "source": [
    "np.unique(sc)"
   ]
  },
  {
   "cell_type": "code",
   "execution_count": 22,
   "id": "9a693689-60a6-403a-a406-f48f81f073ca",
   "metadata": {
    "tags": []
   },
   "outputs": [
    {
     "data": {
      "text/plain": [
       "(1, 96316)"
      ]
     },
     "execution_count": 22,
     "metadata": {},
     "output_type": "execute_result"
    }
   ],
   "source": [
    "np.shape(np.where(sc==0))"
   ]
  },
  {
   "cell_type": "code",
   "execution_count": 24,
   "id": "3a975cf5-bf34-434a-8efc-fbfc0639be39",
   "metadata": {
    "tags": []
   },
   "outputs": [
    {
     "data": {
      "text/plain": [
       "(1, 49355)"
      ]
     },
     "execution_count": 24,
     "metadata": {},
     "output_type": "execute_result"
    }
   ],
   "source": [
    "np.shape(np.where(sc==2))"
   ]
  },
  {
   "cell_type": "code",
   "execution_count": 5,
   "id": "bb73cfda",
   "metadata": {
    "scrolled": true,
    "tags": []
   },
   "outputs": [
    {
     "name": "stdin",
     "output_type": "stream",
     "text": [
      "Enter Alyx password for \"han.yu\": ········\n"
     ]
    },
    {
     "name": "stdout",
     "output_type": "stream",
     "text": [
      "Connected to https://alyx.internationalbrainlab.org as user \"han.yu\"\n",
      "Downloading: /moto/home/hy2562/Downloads/ONE/alyx.internationalbrainlab.org/tmprflpw9ug/cache.zip Bytes: 91949337\n"
     ]
    },
    {
     "name": "stderr",
     "output_type": "stream",
     "text": [
      "100%|█████████████████████████████████████████████| 87.68972110748291/87.68972110748291 [00:03<00:00, 23.79it/s]\n",
      "/moto/stats/users/hy2562/projects/ephys atlas/latest/channels.pqt: 100%|███| 1.91M/1.91M [00:00<00:00, 10.6MB/s]\n",
      "/moto/stats/users/hy2562/projects/ephys atlas/latest/clusters.pqt: 100%|███| 32.4M/32.4M [00:00<00:00, 52.5MB/s]\n",
      "/moto/stats/users/hy2562/projects/ephys atlas/latest/depths.pqt: 100%|█████| 3.27M/3.27M [00:00<00:00, 14.5MB/s]\n",
      "/moto/stats/users/hy2562/projects/ephys atlas/latest/df_save_goodunit_ins_region.csv: 100%|█| 3.88k/3.88k [00:00\n",
      "/moto/stats/users/hy2562/projects/ephys atlas/latest/probes.pqt: 100%|██████| 41.4k/41.4k [00:00<00:00, 692kB/s]\n",
      "/moto/stats/users/hy2562/projects/ephys atlas/latest/raw_ephys_features.pqt: 100%|█| 23.9M/23.9M [00:00<00:00, 5\n",
      "/moto/stats/users/hy2562/projects/ephys atlas/latest/xyz_picks.pqt: 100%|████| 311k/311k [00:00<00:00, 2.90MB/s]\n"
     ]
    },
    {
     "data": {
      "text/plain": [
       "[PosixPath('/moto/stats/users/hy2562/projects/ephys atlas/2022_W34/channels.pqt'),\n",
       " PosixPath('/moto/stats/users/hy2562/projects/ephys atlas/2022_W34/clusters.pqt'),\n",
       " PosixPath('/moto/stats/users/hy2562/projects/ephys atlas/2022_W34/depths.pqt'),\n",
       " PosixPath('/moto/stats/users/hy2562/projects/ephys atlas/2022_W34/probes.pqt'),\n",
       " PosixPath('/moto/stats/users/hy2562/projects/ephys atlas/2022_W34/raw_ephys_features.pqt'),\n",
       " PosixPath('/moto/stats/users/hy2562/projects/ephys atlas/2022_W39/channels.pqt'),\n",
       " PosixPath('/moto/stats/users/hy2562/projects/ephys atlas/2022_W39/clusters.pqt'),\n",
       " PosixPath('/moto/stats/users/hy2562/projects/ephys atlas/2022_W39/depths.pqt'),\n",
       " PosixPath('/moto/stats/users/hy2562/projects/ephys atlas/2022_W39/probes.pqt'),\n",
       " PosixPath('/moto/stats/users/hy2562/projects/ephys atlas/2022_W39_test/channels.pqt'),\n",
       " PosixPath('/moto/stats/users/hy2562/projects/ephys atlas/2022_W39_test/clusters.pqt'),\n",
       " PosixPath('/moto/stats/users/hy2562/projects/ephys atlas/2022_W39_test/depths.pqt'),\n",
       " PosixPath('/moto/stats/users/hy2562/projects/ephys atlas/2022_W39_test/probes.pqt'),\n",
       " PosixPath('/moto/stats/users/hy2562/projects/ephys atlas/channels.pqt'),\n",
       " PosixPath('/moto/stats/users/hy2562/projects/ephys atlas/clusters.pqt'),\n",
       " PosixPath('/moto/stats/users/hy2562/projects/ephys atlas/depths.pqt'),\n",
       " PosixPath('/moto/stats/users/hy2562/projects/ephys atlas/df_save_goodunit_ins_region.csv'),\n",
       " PosixPath('/moto/stats/users/hy2562/projects/ephys atlas/latest/channels.pqt'),\n",
       " PosixPath('/moto/stats/users/hy2562/projects/ephys atlas/latest/clusters.pqt'),\n",
       " PosixPath('/moto/stats/users/hy2562/projects/ephys atlas/latest/depths.pqt'),\n",
       " PosixPath('/moto/stats/users/hy2562/projects/ephys atlas/latest/df_save_goodunit_ins_region.csv'),\n",
       " PosixPath('/moto/stats/users/hy2562/projects/ephys atlas/latest/probes.pqt'),\n",
       " PosixPath('/moto/stats/users/hy2562/projects/ephys atlas/latest/raw_ephys_features.pqt'),\n",
       " PosixPath('/moto/stats/users/hy2562/projects/ephys atlas/latest/xyz_picks.pqt'),\n",
       " PosixPath('/moto/stats/users/hy2562/projects/ephys atlas/probes.pqt'),\n",
       " PosixPath('/moto/stats/users/hy2562/projects/ephys atlas/raw_ephys_features.pqt'),\n",
       " PosixPath('/moto/stats/users/hy2562/projects/ephys atlas/xyz_picks.pqt')]"
      ]
     },
     "execution_count": 5,
     "metadata": {},
     "output_type": "execute_result"
    }
   ],
   "source": [
    "# The AWS private credentials are stored in Alyx, so that only one authentication is required\n",
    "one = ONE(base_url=\"https://alyx.internationalbrainlab.org\", mode='online')\n",
    "s3, bucket_name = aws.get_s3_from_alyx(alyx=one.alyx)\n",
    "aws.s3_download_folder(\"aggregates/bwm\",\n",
    "                       LOCAL_DATA_PATH,\n",
    "                       s3=s3, bucket_name=bucket_name)\n"
   ]
  },
  {
   "cell_type": "code",
   "execution_count": 13,
   "id": "c4257ae5",
   "metadata": {
    "tags": []
   },
   "outputs": [
    {
     "data": {
      "text/plain": [
       "<Axes: xlabel='label', ylabel='count'>"
      ]
     },
     "execution_count": 13,
     "metadata": {},
     "output_type": "execute_result"
    },
    {
     "data": {
      "image/png": "[encoded data removed]",
      "text/plain": [
       "<Figure size 640x480 with 1 Axes>"
      ]
     },
     "metadata": {},
     "output_type": "display_data"
    },
    {
     "data": {
      "image/png": "[encoded data removed]",
      "text/plain": [
       "<Figure size 640x480 with 1 Axes>"
      ]
     },
     "metadata": {},
     "output_type": "display_data"
    }
   ],
   "source": [
    "df_clusters = pd.read_parquet(LOCAL_DATA_PATH.joinpath('clusters.pqt'))\n",
    "df_probes = pd.read_parquet(LOCAL_DATA_PATH.joinpath('probes.pqt'))\n",
    "df_channels = pd.read_parquet(LOCAL_DATA_PATH.joinpath('channels.pqt'))\n",
    "df_depths = pd.read_parquet(LOCAL_DATA_PATH.joinpath('depths.pqt'))\n",
    "df_voltage = pd.read_parquet(LOCAL_DATA_PATH.joinpath('raw_ephys_features.pqt'))\n",
    "\n",
    "## %%\n",
    "import seaborn as sns\n",
    "import matplotlib.pyplot as plt\n",
    "plt.figure()\n",
    "sns.countplot(data=df_probes, x='histology', palette='deep')\n",
    "\n",
    "plt.figure()\n",
    "sns.countplot(data=df_clusters, x='label',  palette='deep')\n"
   ]
  },
  {
   "cell_type": "code",
   "execution_count": 56,
   "id": "da411580",
   "metadata": {
    "tags": []
   },
   "outputs": [
    {
     "name": "stdout",
     "output_type": "stream",
     "text": [
      "<class 'pandas.core.frame.DataFrame'>\n",
      "MultiIndex: 226944 entries, ('f336f6a4-f693-4b88-b12c-c5cf0785b061', 0) to ('17f738d1-b16d-4cd3-8c52-77b08ad2e37f', 383)\n",
      "Data columns (total 13 columns):\n",
      " #   Column       Non-Null Count   Dtype  \n",
      "---  ------       --------------   -----  \n",
      " 0   rms_lf       226944 non-null  float32\n",
      " 1   psd_delta    226944 non-null  float64\n",
      " 2   psd_theta    226944 non-null  float64\n",
      " 3   psd_alpha    226944 non-null  float64\n",
      " 4   psd_beta     226944 non-null  float64\n",
      " 5   psd_gamma    226944 non-null  float64\n",
      " 6   rms_ap       226944 non-null  float32\n",
      " 7   alpha_mean   215465 non-null  float64\n",
      " 8   alpha_std    208654 non-null  float64\n",
      " 9   spike_rate   215465 non-null  float64\n",
      " 10  cloud_x_std  208654 non-null  float64\n",
      " 11  cloud_y_std  208654 non-null  float64\n",
      " 12  cloud_z_std  208654 non-null  float64\n",
      "dtypes: float32(2), float64(11)\n",
      "memory usage: 21.7+ MB\n"
     ]
    }
   ],
   "source": [
    "df_voltage.info()"
   ]
  },
  {
   "cell_type": "code",
   "execution_count": 23,
   "id": "18c3f0c1",
   "metadata": {
    "tags": []
   },
   "outputs": [
    {
     "data": {
      "text/plain": [
       "Index(['channels', 'depths', 'cluster_id', 'amp_max', 'amp_min', 'amp_median',\n",
       "       'amp_std_dB', 'contamination', 'contamination_alt', 'drift',\n",
       "       'missed_spikes_est', 'noise_cutoff', 'presence_ratio',\n",
       "       'presence_ratio_std', 'slidingRP_viol', 'spike_count', 'firing_rate',\n",
       "       'label', 'ks2_label', 'x', 'y', 'z', 'acronym', 'atlas_id', 'axial_um',\n",
       "       'lateral_um', 'pid'],\n",
       "      dtype='object')"
      ]
     },
     "execution_count": 23,
     "metadata": {},
     "output_type": "execute_result"
    }
   ],
   "source": [
    "df_clusters.columns"
   ]
  },
  {
   "cell_type": "code",
   "execution_count": null,
   "id": "6134fd71-7a8e-4237-a5c7-d7507ee62731",
   "metadata": {},
   "outputs": [
    {
     "data": {
      "image/png": "[encoded data removed]",
      "text/plain": [
       "<Figure size 640x480 with 1 Axes>"
      ]
     },
     "metadata": {},
     "output_type": "display_data"
    }
   ],
   "source": [
    "plt.hist(df_clusters['acronym']);"
   ]
  },
  {
   "cell_type": "code",
   "execution_count": 47,
   "id": "6454f944-ab0b-43af-9233-e59f5d1d77d9",
   "metadata": {
    "tags": []
   },
   "outputs": [],
   "source": [
    "reg = df_clusters['acronym'].value_counts().index.to_numpy()"
   ]
  },
  {
   "cell_type": "code",
   "execution_count": 48,
   "id": "4b7ffc32-edda-44ad-9294-90263c609aea",
   "metadata": {
    "tags": []
   },
   "outputs": [],
   "source": [
    "count = df_clusters['acronym'].value_counts().to_numpy()"
   ]
  },
  {
   "cell_type": "code",
   "execution_count": 53,
   "id": "a4e9f048-ed3f-4279-9d7a-59851fb2daa0",
   "metadata": {
    "collapsed": true,
    "jupyter": {
     "outputs_hidden": true
    },
    "tags": []
   },
   "outputs": [
    {
     "data": {
      "text/plain": [
       "array([17587, 12447,  7339,  6048,  5774,  5730,  5596,  5260,  5079,\n",
       "        4806,  3868,  3770,  3524,  3503,  3230,  3206,  3026,  2979,\n",
       "        2903,  2803,  2794,  2698,  2565,  2515,  2513,  2327,  2204,\n",
       "        2196,  2160,  2092,  2058,  2046,  2008,  1974,  1931,  1881,\n",
       "        1832,  1815,  1795,  1697,  1649,  1634,  1610,  1604,  1544,\n",
       "        1514,  1498,  1479,  1451,  1440,  1425,  1405,  1328,  1307,\n",
       "        1302,  1287,  1262,  1231,  1227,  1209,  1155,  1138,  1109,\n",
       "        1105,  1074,  1074,  1069,  1068,  1057,  1018,  1018,  1017,\n",
       "         992,   988,   982,   960,   955,   946,   929,   912,   906,\n",
       "         878,   876,   873,   858,   857,   854,   852,   848,   841,\n",
       "         833,   832,   825,   820,   814,   808,   798,   797,   783,\n",
       "         783,   778,   771,   766,   752,   747,   746,   737,   734,\n",
       "         726,   714,   699,   690,   680,   674,   674,   659,   652,\n",
       "         646,   642,   641,   640,   629,   625,   625,   624,   621,\n",
       "         620,   616,   616,   614,   614,   584,   565,   563,   553,\n",
       "         549,   544,   538,   538,   534,   529,   521,   520,   517,\n",
       "         507,   487,   483,   479,   478,   474,   474,   472,   470,\n",
       "         470,   468,   468,   466,   463,   453,   446,   445,   438,\n",
       "         437,   434,   430,   430,   430,   420,   419,   419,   415,\n",
       "         412,   411,   410,   409,   407,   397,   393,   393,   389,\n",
       "         384,   381,   381,   377,   373,   373,   371,   369,   368,\n",
       "         367,   360,   357,   355,   349,   343,   339,   334,   331,\n",
       "         321,   320,   311,   303,   301,   301,   299,   294,   291,\n",
       "         289,   287,   284,   282,   282,   279,   277,   277,   275,\n",
       "         264,   264,   262,   261,   260,   255,   255,   254,   253,\n",
       "         253,   250,   250,   246,   246,   246,   244,   244,   243,\n",
       "         243,   241,   241,   238,   237,   235,   233,   233,   225,\n",
       "         225,   223,   223,   223,   221,   220,   220,   219,   214,\n",
       "         214,   213,   210,   209,   209,   208,   207,   206,   205,\n",
       "         205,   203,   199,   197,   196,   196,   196,   191,   190,\n",
       "         189,   188,   187,   186,   185,   183,   182,   181,   181,\n",
       "         180,   177,   174,   174,   173,   170,   169,   168,   168,\n",
       "         166,   165,   161,   159,   158,   156,   152,   151,   149,\n",
       "         148,   148,   147,   145,   145,   145,   143,   143,   141,\n",
       "         141,   140,   140,   140,   139,   139,   139,   138,   138,\n",
       "         137,   136,   131,   130,   130,   129,   128,   127,   127,\n",
       "         127,   126,   126,   126,   125,   125,   124,   123,   122,\n",
       "         122,   120,   120,   119,   118,   118,   116,   115,   115,\n",
       "         115,   114,   114,   112,   110,   110,   109,   108,   107,\n",
       "         103,   102,   101,   101,   101,    99,    98,    98,    97,\n",
       "          96,    96,    95,    94,    93,    93,    92,    92,    90,\n",
       "          90,    89,    88,    87,    86,    85,    85,    85,    84,\n",
       "          84,    83,    83,    81,    80,    79,    79,    79,    77,\n",
       "          74,    73,    72,    71,    71,    70,    70,    69,    68,\n",
       "          67,    66,    66,    65,    65,    64,    64,    64,    62,\n",
       "          61,    60,    59,    59,    58,    58,    58,    58,    58,\n",
       "          57,    56,    51,    51,    51,    50,    50,    49,    49,\n",
       "          49,    49,    48,    47,    46,    45,    45,    44,    43,\n",
       "          42,    42,    41,    40,    40,    40,    40,    39,    39,\n",
       "          39,    39,    38,    36,    35,    35,    35,    33,    33,\n",
       "          32,    31,    31,    30,    30,    29,    29,    28,    27,\n",
       "          26,    26,    26,    25,    25,    23,    23,    23,    23,\n",
       "          23,    23,    23,    22,    22,    22,    22,    22,    22,\n",
       "          21,    21,    20,    20,    20,    20,    20,    19,    19,\n",
       "          18,    18,    18,    17,    17,    17,    16,    16,    15,\n",
       "          14,    14,    12,    12,    12,    11,    11,    10,     9,\n",
       "           8,     8,     8,     8,     7,     7,     7,     7,     7,\n",
       "           7,     6,     6,     6,     6,     6,     5,     5,     5,\n",
       "           5,     5,     5,     5,     5,     4,     4,     4,     4,\n",
       "           4,     4,     4,     3,     3,     2,     2,     2,     2,\n",
       "           1,     1,     1])"
      ]
     },
     "execution_count": 53,
     "metadata": {},
     "output_type": "execute_result"
    }
   ],
   "source": [
    "count"
   ]
  },
  {
   "cell_type": "code",
   "execution_count": 54,
   "id": "82109a18-3945-43cb-a1f7-ef6dbaa28a2f",
   "metadata": {
    "tags": []
   },
   "outputs": [
    {
     "data": {
      "image/png": "[encoded data removed]",
      "text/plain": [
       "<Figure size 2000x2000 with 2 Axes>"
      ]
     },
     "metadata": {},
     "output_type": "display_data"
    }
   ],
   "source": [
    "fig, ax = plt.subplots(2,1, figsize = (20,20))\n",
    "ax[0].bar(reg[0:100], count[0:100]);\n",
    "ax[1].bar(reg[100:], count[100:]);"
   ]
  },
  {
   "cell_type": "code",
   "execution_count": 37,
   "id": "edd188a2-9b1c-41b6-8e62-43fe7232c3d2",
   "metadata": {
    "tags": []
   },
   "outputs": [
    {
     "data": {
      "text/plain": [
       "543"
      ]
     },
     "execution_count": 37,
     "metadata": {},
     "output_type": "execute_result"
    }
   ],
   "source": [
    "import numpy as np\n",
    "len(np.unique(df_clusters['acronym']))"
   ]
  },
  {
   "cell_type": "code",
   "execution_count": 26,
   "id": "6737ce1e",
   "metadata": {
    "collapsed": true,
    "jupyter": {
     "outputs_hidden": true
    },
    "tags": []
   },
   "outputs": [
    {
     "data": {
      "text/html": [
       "<div>\n",
       "<style scoped>\n",
       "    .dataframe tbody tr th:only-of-type {\n",
       "        vertical-align: middle;\n",
       "    }\n",
       "\n",
       "    .dataframe tbody tr th {\n",
       "        vertical-align: top;\n",
       "    }\n",
       "\n",
       "    .dataframe thead th {\n",
       "        text-align: right;\n",
       "    }\n",
       "</style>\n",
       "<table border=\"1\" class=\"dataframe\">\n",
       "  <thead>\n",
       "    <tr style=\"text-align: right;\">\n",
       "      <th></th>\n",
       "      <th>channels</th>\n",
       "      <th>depths</th>\n",
       "      <th>cluster_id</th>\n",
       "      <th>amp_max</th>\n",
       "      <th>amp_min</th>\n",
       "      <th>amp_median</th>\n",
       "      <th>amp_std_dB</th>\n",
       "      <th>contamination</th>\n",
       "      <th>contamination_alt</th>\n",
       "      <th>drift</th>\n",
       "      <th>...</th>\n",
       "      <th>label</th>\n",
       "      <th>ks2_label</th>\n",
       "      <th>x</th>\n",
       "      <th>y</th>\n",
       "      <th>z</th>\n",
       "      <th>acronym</th>\n",
       "      <th>atlas_id</th>\n",
       "      <th>axial_um</th>\n",
       "      <th>lateral_um</th>\n",
       "      <th>pid</th>\n",
       "    </tr>\n",
       "  </thead>\n",
       "  <tbody>\n",
       "    <tr>\n",
       "      <th>0</th>\n",
       "      <td>4</td>\n",
       "      <td>60.0</td>\n",
       "      <td>0</td>\n",
       "      <td>0.000189</td>\n",
       "      <td>0.000081</td>\n",
       "      <td>0.000087</td>\n",
       "      <td>0.810410</td>\n",
       "      <td>2.830429</td>\n",
       "      <td>1.204866</td>\n",
       "      <td>83355.825544</td>\n",
       "      <td>...</td>\n",
       "      <td>0.333333</td>\n",
       "      <td>mua</td>\n",
       "      <td>0.000868</td>\n",
       "      <td>-0.004074</td>\n",
       "      <td>-0.004771</td>\n",
       "      <td>PRNr</td>\n",
       "      <td>146</td>\n",
       "      <td>60.0</td>\n",
       "      <td>43.0</td>\n",
       "      <td>00b05238-aa75-4846-a480-c5ffef4529dc</td>\n",
       "    </tr>\n",
       "    <tr>\n",
       "      <th>1</th>\n",
       "      <td>14</td>\n",
       "      <td>160.0</td>\n",
       "      <td>1</td>\n",
       "      <td>0.000154</td>\n",
       "      <td>0.000069</td>\n",
       "      <td>0.000073</td>\n",
       "      <td>0.782208</td>\n",
       "      <td>3.350876</td>\n",
       "      <td>1.337417</td>\n",
       "      <td>26919.325458</td>\n",
       "      <td>...</td>\n",
       "      <td>0.333333</td>\n",
       "      <td>mua</td>\n",
       "      <td>0.000880</td>\n",
       "      <td>-0.004074</td>\n",
       "      <td>-0.004675</td>\n",
       "      <td>PRNr</td>\n",
       "      <td>146</td>\n",
       "      <td>160.0</td>\n",
       "      <td>59.0</td>\n",
       "      <td>00b05238-aa75-4846-a480-c5ffef4529dc</td>\n",
       "    </tr>\n",
       "    <tr>\n",
       "      <th>2</th>\n",
       "      <td>17</td>\n",
       "      <td>180.0</td>\n",
       "      <td>2</td>\n",
       "      <td>0.000249</td>\n",
       "      <td>0.000117</td>\n",
       "      <td>0.000126</td>\n",
       "      <td>0.771212</td>\n",
       "      <td>0.383982</td>\n",
       "      <td>0.279700</td>\n",
       "      <td>140802.056479</td>\n",
       "      <td>...</td>\n",
       "      <td>0.666667</td>\n",
       "      <td>mua</td>\n",
       "      <td>0.000878</td>\n",
       "      <td>-0.004074</td>\n",
       "      <td>-0.004655</td>\n",
       "      <td>PRNr</td>\n",
       "      <td>146</td>\n",
       "      <td>180.0</td>\n",
       "      <td>11.0</td>\n",
       "      <td>00b05238-aa75-4846-a480-c5ffef4529dc</td>\n",
       "    </tr>\n",
       "    <tr>\n",
       "      <th>3</th>\n",
       "      <td>18</td>\n",
       "      <td>200.0</td>\n",
       "      <td>3</td>\n",
       "      <td>0.000174</td>\n",
       "      <td>0.000095</td>\n",
       "      <td>0.000104</td>\n",
       "      <td>0.926991</td>\n",
       "      <td>0.000000</td>\n",
       "      <td>0.000000</td>\n",
       "      <td>1071.722941</td>\n",
       "      <td>...</td>\n",
       "      <td>0.333333</td>\n",
       "      <td>mua</td>\n",
       "      <td>0.000875</td>\n",
       "      <td>-0.004074</td>\n",
       "      <td>-0.004635</td>\n",
       "      <td>PRNr</td>\n",
       "      <td>146</td>\n",
       "      <td>200.0</td>\n",
       "      <td>59.0</td>\n",
       "      <td>00b05238-aa75-4846-a480-c5ffef4529dc</td>\n",
       "    </tr>\n",
       "    <tr>\n",
       "      <th>4</th>\n",
       "      <td>20</td>\n",
       "      <td>220.0</td>\n",
       "      <td>4</td>\n",
       "      <td>0.000141</td>\n",
       "      <td>0.000076</td>\n",
       "      <td>0.000086</td>\n",
       "      <td>1.141197</td>\n",
       "      <td>0.000000</td>\n",
       "      <td>0.000000</td>\n",
       "      <td>1127.562561</td>\n",
       "      <td>...</td>\n",
       "      <td>0.666667</td>\n",
       "      <td>mua</td>\n",
       "      <td>0.000873</td>\n",
       "      <td>-0.004074</td>\n",
       "      <td>-0.004615</td>\n",
       "      <td>PRNr</td>\n",
       "      <td>146</td>\n",
       "      <td>220.0</td>\n",
       "      <td>43.0</td>\n",
       "      <td>00b05238-aa75-4846-a480-c5ffef4529dc</td>\n",
       "    </tr>\n",
       "    <tr>\n",
       "      <th>...</th>\n",
       "      <td>...</td>\n",
       "      <td>...</td>\n",
       "      <td>...</td>\n",
       "      <td>...</td>\n",
       "      <td>...</td>\n",
       "      <td>...</td>\n",
       "      <td>...</td>\n",
       "      <td>...</td>\n",
       "      <td>...</td>\n",
       "      <td>...</td>\n",
       "      <td>...</td>\n",
       "      <td>...</td>\n",
       "      <td>...</td>\n",
       "      <td>...</td>\n",
       "      <td>...</td>\n",
       "      <td>...</td>\n",
       "      <td>...</td>\n",
       "      <td>...</td>\n",
       "      <td>...</td>\n",
       "      <td>...</td>\n",
       "      <td>...</td>\n",
       "    </tr>\n",
       "    <tr>\n",
       "      <th>304735</th>\n",
       "      <td>381</td>\n",
       "      <td>3820.0</td>\n",
       "      <td>986</td>\n",
       "      <td>0.000105</td>\n",
       "      <td>0.000052</td>\n",
       "      <td>0.000062</td>\n",
       "      <td>1.185982</td>\n",
       "      <td>20.450268</td>\n",
       "      <td>3.767566</td>\n",
       "      <td>4911.017782</td>\n",
       "      <td>...</td>\n",
       "      <td>0.666667</td>\n",
       "      <td>None</td>\n",
       "      <td>-0.000066</td>\n",
       "      <td>0.001238</td>\n",
       "      <td>-0.002786</td>\n",
       "      <td>ACAv1</td>\n",
       "      <td>588</td>\n",
       "      <td>3820.0</td>\n",
       "      <td>11.0</td>\n",
       "      <td>17f738d1-b16d-4cd3-8c52-77b08ad2e37f</td>\n",
       "    </tr>\n",
       "    <tr>\n",
       "      <th>304736</th>\n",
       "      <td>214</td>\n",
       "      <td>2160.0</td>\n",
       "      <td>987</td>\n",
       "      <td>0.000215</td>\n",
       "      <td>0.000048</td>\n",
       "      <td>0.000063</td>\n",
       "      <td>1.804413</td>\n",
       "      <td>0.000000</td>\n",
       "      <td>0.000000</td>\n",
       "      <td>7448.524478</td>\n",
       "      <td>...</td>\n",
       "      <td>0.333333</td>\n",
       "      <td>None</td>\n",
       "      <td>-0.000449</td>\n",
       "      <td>0.000851</td>\n",
       "      <td>-0.004336</td>\n",
       "      <td>LSr</td>\n",
       "      <td>258</td>\n",
       "      <td>2160.0</td>\n",
       "      <td>59.0</td>\n",
       "      <td>17f738d1-b16d-4cd3-8c52-77b08ad2e37f</td>\n",
       "    </tr>\n",
       "    <tr>\n",
       "      <th>304737</th>\n",
       "      <td>214</td>\n",
       "      <td>2160.0</td>\n",
       "      <td>988</td>\n",
       "      <td>0.000121</td>\n",
       "      <td>0.000051</td>\n",
       "      <td>0.000079</td>\n",
       "      <td>1.815515</td>\n",
       "      <td>0.000000</td>\n",
       "      <td>0.000000</td>\n",
       "      <td>6200.610117</td>\n",
       "      <td>...</td>\n",
       "      <td>0.666667</td>\n",
       "      <td>None</td>\n",
       "      <td>-0.000449</td>\n",
       "      <td>0.000851</td>\n",
       "      <td>-0.004336</td>\n",
       "      <td>LSr</td>\n",
       "      <td>258</td>\n",
       "      <td>2160.0</td>\n",
       "      <td>59.0</td>\n",
       "      <td>17f738d1-b16d-4cd3-8c52-77b08ad2e37f</td>\n",
       "    </tr>\n",
       "    <tr>\n",
       "      <th>304738</th>\n",
       "      <td>240</td>\n",
       "      <td>2420.0</td>\n",
       "      <td>989</td>\n",
       "      <td>0.000044</td>\n",
       "      <td>0.000024</td>\n",
       "      <td>0.000031</td>\n",
       "      <td>1.171695</td>\n",
       "      <td>0.000000</td>\n",
       "      <td>0.000000</td>\n",
       "      <td>10042.191907</td>\n",
       "      <td>...</td>\n",
       "      <td>0.333333</td>\n",
       "      <td>None</td>\n",
       "      <td>-0.000391</td>\n",
       "      <td>0.000921</td>\n",
       "      <td>-0.004093</td>\n",
       "      <td>LSr</td>\n",
       "      <td>258</td>\n",
       "      <td>2420.0</td>\n",
       "      <td>43.0</td>\n",
       "      <td>17f738d1-b16d-4cd3-8c52-77b08ad2e37f</td>\n",
       "    </tr>\n",
       "    <tr>\n",
       "      <th>304739</th>\n",
       "      <td>240</td>\n",
       "      <td>2420.0</td>\n",
       "      <td>990</td>\n",
       "      <td>0.000032</td>\n",
       "      <td>0.000025</td>\n",
       "      <td>0.000026</td>\n",
       "      <td>0.535733</td>\n",
       "      <td>0.000000</td>\n",
       "      <td>0.000000</td>\n",
       "      <td>635.544550</td>\n",
       "      <td>...</td>\n",
       "      <td>0.333333</td>\n",
       "      <td>None</td>\n",
       "      <td>-0.000391</td>\n",
       "      <td>0.000921</td>\n",
       "      <td>-0.004093</td>\n",
       "      <td>LSr</td>\n",
       "      <td>258</td>\n",
       "      <td>2420.0</td>\n",
       "      <td>43.0</td>\n",
       "      <td>17f738d1-b16d-4cd3-8c52-77b08ad2e37f</td>\n",
       "    </tr>\n",
       "  </tbody>\n",
       "</table>\n",
       "<p>304740 rows × 27 columns</p>\n",
       "</div>"
      ],
      "text/plain": [
       "        channels  depths  cluster_id   amp_max   amp_min  amp_median  \\\n",
       "0              4    60.0           0  0.000189  0.000081    0.000087   \n",
       "1             14   160.0           1  0.000154  0.000069    0.000073   \n",
       "2             17   180.0           2  0.000249  0.000117    0.000126   \n",
       "3             18   200.0           3  0.000174  0.000095    0.000104   \n",
       "4             20   220.0           4  0.000141  0.000076    0.000086   \n",
       "...          ...     ...         ...       ...       ...         ...   \n",
       "304735       381  3820.0         986  0.000105  0.000052    0.000062   \n",
       "304736       214  2160.0         987  0.000215  0.000048    0.000063   \n",
       "304737       214  2160.0         988  0.000121  0.000051    0.000079   \n",
       "304738       240  2420.0         989  0.000044  0.000024    0.000031   \n",
       "304739       240  2420.0         990  0.000032  0.000025    0.000026   \n",
       "\n",
       "        amp_std_dB  contamination  contamination_alt          drift  ...  \\\n",
       "0         0.810410       2.830429           1.204866   83355.825544  ...   \n",
       "1         0.782208       3.350876           1.337417   26919.325458  ...   \n",
       "2         0.771212       0.383982           0.279700  140802.056479  ...   \n",
       "3         0.926991       0.000000           0.000000    1071.722941  ...   \n",
       "4         1.141197       0.000000           0.000000    1127.562561  ...   \n",
       "...            ...            ...                ...            ...  ...   \n",
       "304735    1.185982      20.450268           3.767566    4911.017782  ...   \n",
       "304736    1.804413       0.000000           0.000000    7448.524478  ...   \n",
       "304737    1.815515       0.000000           0.000000    6200.610117  ...   \n",
       "304738    1.171695       0.000000           0.000000   10042.191907  ...   \n",
       "304739    0.535733       0.000000           0.000000     635.544550  ...   \n",
       "\n",
       "           label  ks2_label         x         y         z  acronym  atlas_id  \\\n",
       "0       0.333333        mua  0.000868 -0.004074 -0.004771     PRNr       146   \n",
       "1       0.333333        mua  0.000880 -0.004074 -0.004675     PRNr       146   \n",
       "2       0.666667        mua  0.000878 -0.004074 -0.004655     PRNr       146   \n",
       "3       0.333333        mua  0.000875 -0.004074 -0.004635     PRNr       146   \n",
       "4       0.666667        mua  0.000873 -0.004074 -0.004615     PRNr       146   \n",
       "...          ...        ...       ...       ...       ...      ...       ...   \n",
       "304735  0.666667       None -0.000066  0.001238 -0.002786    ACAv1       588   \n",
       "304736  0.333333       None -0.000449  0.000851 -0.004336      LSr       258   \n",
       "304737  0.666667       None -0.000449  0.000851 -0.004336      LSr       258   \n",
       "304738  0.333333       None -0.000391  0.000921 -0.004093      LSr       258   \n",
       "304739  0.333333       None -0.000391  0.000921 -0.004093      LSr       258   \n",
       "\n",
       "        axial_um lateral_um                                   pid  \n",
       "0           60.0       43.0  00b05238-aa75-4846-a480-c5ffef4529dc  \n",
       "1          160.0       59.0  00b05238-aa75-4846-a480-c5ffef4529dc  \n",
       "2          180.0       11.0  00b05238-aa75-4846-a480-c5ffef4529dc  \n",
       "3          200.0       59.0  00b05238-aa75-4846-a480-c5ffef4529dc  \n",
       "4          220.0       43.0  00b05238-aa75-4846-a480-c5ffef4529dc  \n",
       "...          ...        ...                                   ...  \n",
       "304735    3820.0       11.0  17f738d1-b16d-4cd3-8c52-77b08ad2e37f  \n",
       "304736    2160.0       59.0  17f738d1-b16d-4cd3-8c52-77b08ad2e37f  \n",
       "304737    2160.0       59.0  17f738d1-b16d-4cd3-8c52-77b08ad2e37f  \n",
       "304738    2420.0       43.0  17f738d1-b16d-4cd3-8c52-77b08ad2e37f  \n",
       "304739    2420.0       43.0  17f738d1-b16d-4cd3-8c52-77b08ad2e37f  \n",
       "\n",
       "[304740 rows x 27 columns]"
      ]
     },
     "execution_count": 26,
     "metadata": {},
     "output_type": "execute_result"
    }
   ],
   "source": [
    "df_clusters"
   ]
  },
  {
   "cell_type": "code",
   "execution_count": 25,
   "id": "633d304e",
   "metadata": {
    "tags": []
   },
   "outputs": [
    {
     "data": {
      "text/html": [
       "<div>\n",
       "<style scoped>\n",
       "    .dataframe tbody tr th:only-of-type {\n",
       "        vertical-align: middle;\n",
       "    }\n",
       "\n",
       "    .dataframe tbody tr th {\n",
       "        vertical-align: top;\n",
       "    }\n",
       "\n",
       "    .dataframe thead th {\n",
       "        text-align: right;\n",
       "    }\n",
       "</style>\n",
       "<table border=\"1\" class=\"dataframe\">\n",
       "  <thead>\n",
       "    <tr style=\"text-align: right;\">\n",
       "      <th></th>\n",
       "      <th>eid</th>\n",
       "      <th>pname</th>\n",
       "      <th>spike_sorter</th>\n",
       "      <th>histology</th>\n",
       "    </tr>\n",
       "  </thead>\n",
       "  <tbody>\n",
       "    <tr>\n",
       "      <th>00b05238-aa75-4846-a480-c5ffef4529dc</th>\n",
       "      <td>258b4a8b-28e3-4c18-9f86-1ea2bc0dc806</td>\n",
       "      <td>probe00</td>\n",
       "      <td>alf/probe00/pykilosort</td>\n",
       "      <td>aligned</td>\n",
       "    </tr>\n",
       "    <tr>\n",
       "      <th>5877f7c5-e08b-422f-bfb3-ce0b3a795fc8</th>\n",
       "      <td>258b4a8b-28e3-4c18-9f86-1ea2bc0dc806</td>\n",
       "      <td>probe01</td>\n",
       "      <td>alf/probe01/pykilosort</td>\n",
       "      <td>aligned</td>\n",
       "    </tr>\n",
       "    <tr>\n",
       "      <th>1a2698b5-26b9-4670-b54b-a094daac82ec</th>\n",
       "      <td>c7e4e6ad-280f-432f-ac85-9be299890d6e</td>\n",
       "      <td>probe00</td>\n",
       "      <td>alf/probe00/pykilosort</td>\n",
       "      <td>aligned</td>\n",
       "    </tr>\n",
       "    <tr>\n",
       "      <th>23207e4e-1a41-411c-a60e-4b1aa82b7a7c</th>\n",
       "      <td>c7e4e6ad-280f-432f-ac85-9be299890d6e</td>\n",
       "      <td>probe01</td>\n",
       "      <td>alf/probe01/pykilosort</td>\n",
       "      <td>aligned</td>\n",
       "    </tr>\n",
       "    <tr>\n",
       "      <th>754713ae-8ea8-4d49-99ba-2ca2213f6c80</th>\n",
       "      <td>d62a64f4-fdc6-448b-8f2a-53ed08d645a7</td>\n",
       "      <td>probe00</td>\n",
       "      <td>alf/probe00/pykilosort</td>\n",
       "      <td>aligned</td>\n",
       "    </tr>\n",
       "    <tr>\n",
       "      <th>...</th>\n",
       "      <td>...</td>\n",
       "      <td>...</td>\n",
       "      <td>...</td>\n",
       "      <td>...</td>\n",
       "    </tr>\n",
       "    <tr>\n",
       "      <th>958b1089-a066-43e2-990d-8aad703429a2</th>\n",
       "      <td>49368f16-de69-4647-9a7a-761e94517821</td>\n",
       "      <td>probe00</td>\n",
       "      <td>alf/probe00/pykilosort</td>\n",
       "      <td>aligned</td>\n",
       "    </tr>\n",
       "    <tr>\n",
       "      <th>3283d8ec-1436-4529-8a16-941bbf65c91d</th>\n",
       "      <td>5139ce2c-7d52-44bf-8129-692d61dd6403</td>\n",
       "      <td>probe00</td>\n",
       "      <td>alf/probe00/pykilosort</td>\n",
       "      <td>alf</td>\n",
       "    </tr>\n",
       "    <tr>\n",
       "      <th>eb82b081-4edc-4d6a-89ee-3453d1c4c8f0</th>\n",
       "      <td>5139ce2c-7d52-44bf-8129-692d61dd6403</td>\n",
       "      <td>probe01</td>\n",
       "      <td>alf/probe01/pykilosort</td>\n",
       "      <td>aligned</td>\n",
       "    </tr>\n",
       "    <tr>\n",
       "      <th>0fed7207-f747-428b-b4c0-854cabb50d9e</th>\n",
       "      <td>1211f4af-d3e4-4c4e-9d0b-75a0bc2bf1f0</td>\n",
       "      <td>probe01</td>\n",
       "      <td>alf/probe01/pykilosort</td>\n",
       "      <td>aligned</td>\n",
       "    </tr>\n",
       "    <tr>\n",
       "      <th>17f738d1-b16d-4cd3-8c52-77b08ad2e37f</th>\n",
       "      <td>1211f4af-d3e4-4c4e-9d0b-75a0bc2bf1f0</td>\n",
       "      <td>probe00</td>\n",
       "      <td>alf/probe00/pykilosort</td>\n",
       "      <td>aligned</td>\n",
       "    </tr>\n",
       "  </tbody>\n",
       "</table>\n",
       "<p>592 rows × 4 columns</p>\n",
       "</div>"
      ],
      "text/plain": [
       "                                                                       eid  \\\n",
       "00b05238-aa75-4846-a480-c5ffef4529dc  258b4a8b-28e3-4c18-9f86-1ea2bc0dc806   \n",
       "5877f7c5-e08b-422f-bfb3-ce0b3a795fc8  258b4a8b-28e3-4c18-9f86-1ea2bc0dc806   \n",
       "1a2698b5-26b9-4670-b54b-a094daac82ec  c7e4e6ad-280f-432f-ac85-9be299890d6e   \n",
       "23207e4e-1a41-411c-a60e-4b1aa82b7a7c  c7e4e6ad-280f-432f-ac85-9be299890d6e   \n",
       "754713ae-8ea8-4d49-99ba-2ca2213f6c80  d62a64f4-fdc6-448b-8f2a-53ed08d645a7   \n",
       "...                                                                    ...   \n",
       "958b1089-a066-43e2-990d-8aad703429a2  49368f16-de69-4647-9a7a-761e94517821   \n",
       "3283d8ec-1436-4529-8a16-941bbf65c91d  5139ce2c-7d52-44bf-8129-692d61dd6403   \n",
       "eb82b081-4edc-4d6a-89ee-3453d1c4c8f0  5139ce2c-7d52-44bf-8129-692d61dd6403   \n",
       "0fed7207-f747-428b-b4c0-854cabb50d9e  1211f4af-d3e4-4c4e-9d0b-75a0bc2bf1f0   \n",
       "17f738d1-b16d-4cd3-8c52-77b08ad2e37f  1211f4af-d3e4-4c4e-9d0b-75a0bc2bf1f0   \n",
       "\n",
       "                                        pname            spike_sorter  \\\n",
       "00b05238-aa75-4846-a480-c5ffef4529dc  probe00  alf/probe00/pykilosort   \n",
       "5877f7c5-e08b-422f-bfb3-ce0b3a795fc8  probe01  alf/probe01/pykilosort   \n",
       "1a2698b5-26b9-4670-b54b-a094daac82ec  probe00  alf/probe00/pykilosort   \n",
       "23207e4e-1a41-411c-a60e-4b1aa82b7a7c  probe01  alf/probe01/pykilosort   \n",
       "754713ae-8ea8-4d49-99ba-2ca2213f6c80  probe00  alf/probe00/pykilosort   \n",
       "...                                       ...                     ...   \n",
       "958b1089-a066-43e2-990d-8aad703429a2  probe00  alf/probe00/pykilosort   \n",
       "3283d8ec-1436-4529-8a16-941bbf65c91d  probe00  alf/probe00/pykilosort   \n",
       "eb82b081-4edc-4d6a-89ee-3453d1c4c8f0  probe01  alf/probe01/pykilosort   \n",
       "0fed7207-f747-428b-b4c0-854cabb50d9e  probe01  alf/probe01/pykilosort   \n",
       "17f738d1-b16d-4cd3-8c52-77b08ad2e37f  probe00  alf/probe00/pykilosort   \n",
       "\n",
       "                                     histology  \n",
       "00b05238-aa75-4846-a480-c5ffef4529dc   aligned  \n",
       "5877f7c5-e08b-422f-bfb3-ce0b3a795fc8   aligned  \n",
       "1a2698b5-26b9-4670-b54b-a094daac82ec   aligned  \n",
       "23207e4e-1a41-411c-a60e-4b1aa82b7a7c   aligned  \n",
       "754713ae-8ea8-4d49-99ba-2ca2213f6c80   aligned  \n",
       "...                                        ...  \n",
       "958b1089-a066-43e2-990d-8aad703429a2   aligned  \n",
       "3283d8ec-1436-4529-8a16-941bbf65c91d       alf  \n",
       "eb82b081-4edc-4d6a-89ee-3453d1c4c8f0   aligned  \n",
       "0fed7207-f747-428b-b4c0-854cabb50d9e   aligned  \n",
       "17f738d1-b16d-4cd3-8c52-77b08ad2e37f   aligned  \n",
       "\n",
       "[592 rows x 4 columns]"
      ]
     },
     "execution_count": 25,
     "metadata": {},
     "output_type": "execute_result"
    }
   ],
   "source": [
    "df_probes"
   ]
  },
  {
   "cell_type": "code",
   "execution_count": 27,
   "id": "647d3615",
   "metadata": {
    "tags": []
   },
   "outputs": [
    {
     "data": {
      "text/html": [
       "<div>\n",
       "<style scoped>\n",
       "    .dataframe tbody tr th:only-of-type {\n",
       "        vertical-align: middle;\n",
       "    }\n",
       "\n",
       "    .dataframe tbody tr th {\n",
       "        vertical-align: top;\n",
       "    }\n",
       "\n",
       "    .dataframe thead th {\n",
       "        text-align: right;\n",
       "    }\n",
       "</style>\n",
       "<table border=\"1\" class=\"dataframe\">\n",
       "  <thead>\n",
       "    <tr style=\"text-align: right;\">\n",
       "      <th></th>\n",
       "      <th></th>\n",
       "      <th>amps</th>\n",
       "      <th>amps_std</th>\n",
       "      <th>cell_count</th>\n",
       "      <th>spike_rate</th>\n",
       "    </tr>\n",
       "    <tr>\n",
       "      <th>pid</th>\n",
       "      <th>depths</th>\n",
       "      <th></th>\n",
       "      <th></th>\n",
       "      <th></th>\n",
       "      <th></th>\n",
       "    </tr>\n",
       "  </thead>\n",
       "  <tbody>\n",
       "    <tr>\n",
       "      <th rowspan=\"5\" valign=\"top\">00b05238-aa75-4846-a480-c5ffef4529dc</th>\n",
       "      <th>40</th>\n",
       "      <td>88.353535</td>\n",
       "      <td>12.918829</td>\n",
       "      <td>1</td>\n",
       "      <td>0.011975</td>\n",
       "    </tr>\n",
       "    <tr>\n",
       "      <th>60</th>\n",
       "      <td>88.810954</td>\n",
       "      <td>11.145890</td>\n",
       "      <td>1</td>\n",
       "      <td>0.499385</td>\n",
       "    </tr>\n",
       "    <tr>\n",
       "      <th>80</th>\n",
       "      <td>86.950339</td>\n",
       "      <td>8.467090</td>\n",
       "      <td>1</td>\n",
       "      <td>1.102793</td>\n",
       "    </tr>\n",
       "    <tr>\n",
       "      <th>100</th>\n",
       "      <td>85.436507</td>\n",
       "      <td>6.920584</td>\n",
       "      <td>1</td>\n",
       "      <td>0.292946</td>\n",
       "    </tr>\n",
       "    <tr>\n",
       "      <th>120</th>\n",
       "      <td>85.303423</td>\n",
       "      <td>12.996079</td>\n",
       "      <td>3</td>\n",
       "      <td>0.015729</td>\n",
       "    </tr>\n",
       "    <tr>\n",
       "      <th>...</th>\n",
       "      <th>...</th>\n",
       "      <td>...</td>\n",
       "      <td>...</td>\n",
       "      <td>...</td>\n",
       "      <td>...</td>\n",
       "    </tr>\n",
       "    <tr>\n",
       "      <th rowspan=\"5\" valign=\"top\">17f738d1-b16d-4cd3-8c52-77b08ad2e37f</th>\n",
       "      <th>3740</th>\n",
       "      <td>86.096125</td>\n",
       "      <td>43.111075</td>\n",
       "      <td>18</td>\n",
       "      <td>0.528238</td>\n",
       "    </tr>\n",
       "    <tr>\n",
       "      <th>3760</th>\n",
       "      <td>96.968275</td>\n",
       "      <td>48.935159</td>\n",
       "      <td>15</td>\n",
       "      <td>0.390128</td>\n",
       "    </tr>\n",
       "    <tr>\n",
       "      <th>3780</th>\n",
       "      <td>112.204586</td>\n",
       "      <td>49.696951</td>\n",
       "      <td>12</td>\n",
       "      <td>0.160859</td>\n",
       "    </tr>\n",
       "    <tr>\n",
       "      <th>3800</th>\n",
       "      <td>87.919767</td>\n",
       "      <td>25.405103</td>\n",
       "      <td>7</td>\n",
       "      <td>0.013876</td>\n",
       "    </tr>\n",
       "    <tr>\n",
       "      <th>3820</th>\n",
       "      <td>79.893726</td>\n",
       "      <td>NaN</td>\n",
       "      <td>1</td>\n",
       "      <td>0.000161</td>\n",
       "    </tr>\n",
       "  </tbody>\n",
       "</table>\n",
       "<p>102917 rows × 4 columns</p>\n",
       "</div>"
      ],
      "text/plain": [
       "                                                   amps   amps_std  \\\n",
       "pid                                  depths                          \n",
       "00b05238-aa75-4846-a480-c5ffef4529dc 40       88.353535  12.918829   \n",
       "                                     60       88.810954  11.145890   \n",
       "                                     80       86.950339   8.467090   \n",
       "                                     100      85.436507   6.920584   \n",
       "                                     120      85.303423  12.996079   \n",
       "...                                                 ...        ...   \n",
       "17f738d1-b16d-4cd3-8c52-77b08ad2e37f 3740     86.096125  43.111075   \n",
       "                                     3760     96.968275  48.935159   \n",
       "                                     3780    112.204586  49.696951   \n",
       "                                     3800     87.919767  25.405103   \n",
       "                                     3820     79.893726        NaN   \n",
       "\n",
       "                                             cell_count  spike_rate  \n",
       "pid                                  depths                          \n",
       "00b05238-aa75-4846-a480-c5ffef4529dc 40               1    0.011975  \n",
       "                                     60               1    0.499385  \n",
       "                                     80               1    1.102793  \n",
       "                                     100              1    0.292946  \n",
       "                                     120              3    0.015729  \n",
       "...                                                 ...         ...  \n",
       "17f738d1-b16d-4cd3-8c52-77b08ad2e37f 3740            18    0.528238  \n",
       "                                     3760            15    0.390128  \n",
       "                                     3780            12    0.160859  \n",
       "                                     3800             7    0.013876  \n",
       "                                     3820             1    0.000161  \n",
       "\n",
       "[102917 rows x 4 columns]"
      ]
     },
     "execution_count": 27,
     "metadata": {},
     "output_type": "execute_result"
    }
   ],
   "source": [
    "df_depths"
   ]
  },
  {
   "cell_type": "code",
   "execution_count": 20,
   "id": "cbaa6d86-621a-413d-8b7f-cd371ee7f7e7",
   "metadata": {
    "tags": []
   },
   "outputs": [
    {
     "data": {
      "text/html": [
       "<div>\n",
       "<style scoped>\n",
       "    .dataframe tbody tr th:only-of-type {\n",
       "        vertical-align: middle;\n",
       "    }\n",
       "\n",
       "    .dataframe tbody tr th {\n",
       "        vertical-align: top;\n",
       "    }\n",
       "\n",
       "    .dataframe thead th {\n",
       "        text-align: right;\n",
       "    }\n",
       "</style>\n",
       "<table border=\"1\" class=\"dataframe\">\n",
       "  <thead>\n",
       "    <tr style=\"text-align: right;\">\n",
       "      <th></th>\n",
       "      <th></th>\n",
       "      <th>x</th>\n",
       "      <th>y</th>\n",
       "      <th>z</th>\n",
       "      <th>acronym</th>\n",
       "      <th>atlas_id</th>\n",
       "      <th>axial_um</th>\n",
       "      <th>lateral_um</th>\n",
       "    </tr>\n",
       "    <tr>\n",
       "      <th>pid</th>\n",
       "      <th>raw_ind</th>\n",
       "      <th></th>\n",
       "      <th></th>\n",
       "      <th></th>\n",
       "      <th></th>\n",
       "      <th></th>\n",
       "      <th></th>\n",
       "      <th></th>\n",
       "    </tr>\n",
       "  </thead>\n",
       "  <tbody>\n",
       "    <tr>\n",
       "      <th rowspan=\"5\" valign=\"top\">00b05238-aa75-4846-a480-c5ffef4529dc</th>\n",
       "      <th>0</th>\n",
       "      <td>0.000855</td>\n",
       "      <td>-0.004074</td>\n",
       "      <td>-0.004809</td>\n",
       "      <td>PRNr</td>\n",
       "      <td>146</td>\n",
       "      <td>20.0</td>\n",
       "      <td>43.0</td>\n",
       "    </tr>\n",
       "    <tr>\n",
       "      <th>1</th>\n",
       "      <td>0.000855</td>\n",
       "      <td>-0.004074</td>\n",
       "      <td>-0.004809</td>\n",
       "      <td>PRNr</td>\n",
       "      <td>146</td>\n",
       "      <td>20.0</td>\n",
       "      <td>11.0</td>\n",
       "    </tr>\n",
       "    <tr>\n",
       "      <th>2</th>\n",
       "      <td>0.000862</td>\n",
       "      <td>-0.004074</td>\n",
       "      <td>-0.004790</td>\n",
       "      <td>PRNr</td>\n",
       "      <td>146</td>\n",
       "      <td>40.0</td>\n",
       "      <td>59.0</td>\n",
       "    </tr>\n",
       "    <tr>\n",
       "      <th>3</th>\n",
       "      <td>0.000862</td>\n",
       "      <td>-0.004074</td>\n",
       "      <td>-0.004790</td>\n",
       "      <td>PRNr</td>\n",
       "      <td>146</td>\n",
       "      <td>40.0</td>\n",
       "      <td>27.0</td>\n",
       "    </tr>\n",
       "    <tr>\n",
       "      <th>4</th>\n",
       "      <td>0.000868</td>\n",
       "      <td>-0.004074</td>\n",
       "      <td>-0.004771</td>\n",
       "      <td>PRNr</td>\n",
       "      <td>146</td>\n",
       "      <td>60.0</td>\n",
       "      <td>43.0</td>\n",
       "    </tr>\n",
       "    <tr>\n",
       "      <th>...</th>\n",
       "      <th>...</th>\n",
       "      <td>...</td>\n",
       "      <td>...</td>\n",
       "      <td>...</td>\n",
       "      <td>...</td>\n",
       "      <td>...</td>\n",
       "      <td>...</td>\n",
       "      <td>...</td>\n",
       "    </tr>\n",
       "    <tr>\n",
       "      <th rowspan=\"5\" valign=\"top\">17f738d1-b16d-4cd3-8c52-77b08ad2e37f</th>\n",
       "      <th>379</th>\n",
       "      <td>-0.000067</td>\n",
       "      <td>0.001234</td>\n",
       "      <td>-0.002805</td>\n",
       "      <td>root</td>\n",
       "      <td>997</td>\n",
       "      <td>3800.0</td>\n",
       "      <td>27.0</td>\n",
       "    </tr>\n",
       "    <tr>\n",
       "      <th>380</th>\n",
       "      <td>-0.000066</td>\n",
       "      <td>0.001238</td>\n",
       "      <td>-0.002786</td>\n",
       "      <td>ACAv1</td>\n",
       "      <td>588</td>\n",
       "      <td>3820.0</td>\n",
       "      <td>43.0</td>\n",
       "    </tr>\n",
       "    <tr>\n",
       "      <th>381</th>\n",
       "      <td>-0.000066</td>\n",
       "      <td>0.001238</td>\n",
       "      <td>-0.002786</td>\n",
       "      <td>ACAv1</td>\n",
       "      <td>588</td>\n",
       "      <td>3820.0</td>\n",
       "      <td>11.0</td>\n",
       "    </tr>\n",
       "    <tr>\n",
       "      <th>382</th>\n",
       "      <td>-0.000064</td>\n",
       "      <td>0.001243</td>\n",
       "      <td>-0.002767</td>\n",
       "      <td>ACAv1</td>\n",
       "      <td>588</td>\n",
       "      <td>3840.0</td>\n",
       "      <td>59.0</td>\n",
       "    </tr>\n",
       "    <tr>\n",
       "      <th>383</th>\n",
       "      <td>-0.000064</td>\n",
       "      <td>0.001243</td>\n",
       "      <td>-0.002767</td>\n",
       "      <td>ACAv1</td>\n",
       "      <td>588</td>\n",
       "      <td>3840.0</td>\n",
       "      <td>27.0</td>\n",
       "    </tr>\n",
       "  </tbody>\n",
       "</table>\n",
       "<p>224196 rows × 7 columns</p>\n",
       "</div>"
      ],
      "text/plain": [
       "                                                     x         y         z  \\\n",
       "pid                                  raw_ind                                 \n",
       "00b05238-aa75-4846-a480-c5ffef4529dc 0        0.000855 -0.004074 -0.004809   \n",
       "                                     1        0.000855 -0.004074 -0.004809   \n",
       "                                     2        0.000862 -0.004074 -0.004790   \n",
       "                                     3        0.000862 -0.004074 -0.004790   \n",
       "                                     4        0.000868 -0.004074 -0.004771   \n",
       "...                                                ...       ...       ...   \n",
       "17f738d1-b16d-4cd3-8c52-77b08ad2e37f 379     -0.000067  0.001234 -0.002805   \n",
       "                                     380     -0.000066  0.001238 -0.002786   \n",
       "                                     381     -0.000066  0.001238 -0.002786   \n",
       "                                     382     -0.000064  0.001243 -0.002767   \n",
       "                                     383     -0.000064  0.001243 -0.002767   \n",
       "\n",
       "                                             acronym  atlas_id  axial_um  \\\n",
       "pid                                  raw_ind                               \n",
       "00b05238-aa75-4846-a480-c5ffef4529dc 0          PRNr       146      20.0   \n",
       "                                     1          PRNr       146      20.0   \n",
       "                                     2          PRNr       146      40.0   \n",
       "                                     3          PRNr       146      40.0   \n",
       "                                     4          PRNr       146      60.0   \n",
       "...                                              ...       ...       ...   \n",
       "17f738d1-b16d-4cd3-8c52-77b08ad2e37f 379        root       997    3800.0   \n",
       "                                     380       ACAv1       588    3820.0   \n",
       "                                     381       ACAv1       588    3820.0   \n",
       "                                     382       ACAv1       588    3840.0   \n",
       "                                     383       ACAv1       588    3840.0   \n",
       "\n",
       "                                              lateral_um  \n",
       "pid                                  raw_ind              \n",
       "00b05238-aa75-4846-a480-c5ffef4529dc 0              43.0  \n",
       "                                     1              11.0  \n",
       "                                     2              59.0  \n",
       "                                     3              27.0  \n",
       "                                     4              43.0  \n",
       "...                                                  ...  \n",
       "17f738d1-b16d-4cd3-8c52-77b08ad2e37f 379            27.0  \n",
       "                                     380            43.0  \n",
       "                                     381            11.0  \n",
       "                                     382            59.0  \n",
       "                                     383            27.0  \n",
       "\n",
       "[224196 rows x 7 columns]"
      ]
     },
     "execution_count": 20,
     "metadata": {},
     "output_type": "execute_result"
    }
   ],
   "source": [
    "df_channels"
   ]
  },
  {
   "cell_type": "code",
   "execution_count": 24,
   "id": "9ca02d81-da16-459f-8375-bfacba63c4e2",
   "metadata": {
    "tags": []
   },
   "outputs": [
    {
     "name": "stdout",
     "output_type": "stream",
     "text": [
      "<class 'pandas.core.frame.DataFrame'>\n",
      "MultiIndex: 224196 entries, ('00b05238-aa75-4846-a480-c5ffef4529dc', 0) to ('17f738d1-b16d-4cd3-8c52-77b08ad2e37f', 383)\n",
      "Data columns (total 7 columns):\n",
      " #   Column      Non-Null Count   Dtype  \n",
      "---  ------      --------------   -----  \n",
      " 0   x           224196 non-null  float64\n",
      " 1   y           224196 non-null  float64\n",
      " 2   z           224196 non-null  float64\n",
      " 3   acronym     224196 non-null  object \n",
      " 4   atlas_id    224196 non-null  int64  \n",
      " 5   axial_um    224196 non-null  float64\n",
      " 6   lateral_um  224196 non-null  float64\n",
      "dtypes: float64(5), int64(1), object(1)\n",
      "memory usage: 12.9+ MB\n"
     ]
    }
   ],
   "source": [
    "df_channels.info()"
   ]
  },
  {
   "cell_type": "code",
   "execution_count": 32,
   "id": "32c45280-ce5f-4cc0-a26a-d7a38e037e6d",
   "metadata": {
    "tags": []
   },
   "outputs": [
    {
     "data": {
      "text/plain": [
       "'SNr'"
      ]
     },
     "execution_count": 32,
     "metadata": {},
     "output_type": "execute_result"
    }
   ],
   "source": [
    "df_channels['acronym']['f9d8aacd-b2a0-49f2-bd71-c2f5aadcfdd1'][0]"
   ]
  },
  {
   "cell_type": "code",
   "execution_count": null,
   "id": "a0449ae4-a003-46ba-9b4f-b4c0663a4ee0",
   "metadata": {},
   "outputs": [],
   "source": []
  }
 ],
 "metadata": {
  "kernelspec": {
   "display_name": "Python 3 (ipykernel)",
   "language": "python",
   "name": "python3"
  },
  "language_info": {
   "codemirror_mode": {
    "name": "ipython",
    "version": 3
   },
   "file_extension": ".py",
   "mimetype": "text/x-python",
   "name": "python",
   "nbconvert_exporter": "python",
   "pygments_lexer": "ipython3",
   "version": "3.10.9"
  }
 },
 "nbformat": 4,
 "nbformat_minor": 5
}
