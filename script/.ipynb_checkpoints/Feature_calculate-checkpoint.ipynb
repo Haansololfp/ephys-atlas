{
 "cells": [
  {
   "cell_type": "code",
   "execution_count": 1,
   "id": "81774675-86ee-482a-8ec3-1436699cc398",
   "metadata": {
    "tags": []
   },
   "outputs": [],
   "source": [
    "%load_ext autoreload\n",
    "%autoreload 2"
   ]
  },
  {
   "cell_type": "code",
   "execution_count": 3,
   "id": "22617a38-b0af-404d-8359-1b918ffe5dda",
   "metadata": {
    "tags": []
   },
   "outputs": [],
   "source": [
    "import numpy as np\n",
    "from spike_psvae import cell_type_feature\n",
    "from tqdm import tqdm\n",
    "import h5py\n",
    "import numpy as np\n",
    "from scipy import signal\n"
   ]
  },
  {
   "cell_type": "code",
   "execution_count": 4,
   "id": "8e82d44a-de1a-442e-9dfc-ee503f86d2f4",
   "metadata": {
    "tags": []
   },
   "outputs": [],
   "source": [
    "from one.api import ONE\n",
    "one = ONE(base_url=\"https://alyx.internationalbrainlab.org\")"
   ]
  },
  {
   "cell_type": "code",
   "execution_count": 5,
   "id": "af538d52-d47f-400c-8647-399d76482e22",
   "metadata": {
    "tags": []
   },
   "outputs": [],
   "source": [
    "Benchmark_pids = ['1a276285-8b0e-4cc9-9f0a-a3a002978724', \n",
    "                  '1e104bf4-7a24-4624-a5b2-c2c8289c0de7', \n",
    "                  '5d570bf6-a4c6-4bf1-a14b-2c878c84ef0e', \n",
    "                  '5f7766ce-8e2e-410c-9195-6bf089fea4fd', \n",
    "                  '6638cfb3-3831-4fc2-9327-194b76cf22e1', \n",
    "                  '749cb2b7-e57e-4453-a794-f6230e4d0226', \n",
    "                  'd7ec0892-0a6c-4f4f-9d8f-72083692af5c', \n",
    "                  'da8dfec1-d265-44e8-84ce-6ae9c109b8bd', \n",
    "                  'dab512bd-a02d-4c1f-8dbc-9155a163efc0', \n",
    "                  'dc7e9403-19f7-409f-9240-05ee57cb7aea', \n",
    "                  'e8f9fba4-d151-4b00-bee7-447f0f3e752c', \n",
    "                  'eebcaf65-7fa4-4118-869d-a084e84530e2', \n",
    "                  'fe380793-8035-414e-b000-09bfe5ece92a']"
   ]
  },
  {
   "cell_type": "code",
   "execution_count": 9,
   "id": "947e41c9-e849-466c-9bb2-66219d968d69",
   "metadata": {
    "tags": []
   },
   "outputs": [
    {
     "name": "stderr",
     "output_type": "stream",
     "text": [
      "  0%|                                                                                | 0/33 [00:47<?, ?it/s]\n"
     ]
    },
    {
     "ename": "NameError",
     "evalue": "name 'time' is not defined",
     "output_type": "error",
     "traceback": [
      "\u001b[0;31m---------------------------------------------------------------------------\u001b[0m",
      "\u001b[0;31mNameError\u001b[0m                                 Traceback (most recent call last)",
      "Cell \u001b[0;32mIn[9], line 50\u001b[0m\n\u001b[1;32m     47\u001b[0m spatial_spread[start_idx:end_idx] \u001b[38;5;241m=\u001b[39m cell_type_feature\u001b[38;5;241m.\u001b[39mspatial_spread(waveforms, geom, channel_index, spk_idx)\n\u001b[1;32m     49\u001b[0m spatial_non_threshold[start_idx:end_idx] \u001b[38;5;241m=\u001b[39m cell_type_feature\u001b[38;5;241m.\u001b[39mspatial_spread_weighted_dist(waveforms, geom, channel_index, spk_idx)\n\u001b[0;32m---> 50\u001b[0m reploarization_slope[start_idx:end_idx] \u001b[38;5;241m=\u001b[39m \u001b[43mcell_type_feature\u001b[49m\u001b[38;5;241;43m.\u001b[39;49m\u001b[43mreploarization_slope\u001b[49m\u001b[43m(\u001b[49m\u001b[43mwaveforms\u001b[49m\u001b[43m)\u001b[49m\n\u001b[1;32m     51\u001b[0m recovery_slope[start_idx:end_idx] \u001b[38;5;241m=\u001b[39m cell_type_feature\u001b[38;5;241m.\u001b[39mrecovery_slope(waveforms)\n\u001b[1;32m     54\u001b[0m \u001b[38;5;66;03m# v, ci = cell_type_feature.velocity(waveforms, geom, channel_index, n_workers=64 )\u001b[39;00m\n\u001b[1;32m     55\u001b[0m \u001b[38;5;66;03m# velocity[i * batch_size: (i + 1) * batch_size] = v\u001b[39;00m\n\u001b[1;32m     56\u001b[0m \u001b[38;5;66;03m# ci_err[i * batch_size: (i + 1) * batch_size] = ci\u001b[39;00m\n",
      "File \u001b[0;32m/moto/stats/users/hy2562/spike-psvae/spike_psvae/cell_type_feature.py:153\u001b[0m, in \u001b[0;36mreploarization_slope\u001b[0;34m(wfs, window)\u001b[0m\n\u001b[1;32m    151\u001b[0m \u001b[38;5;28;01mfor\u001b[39;00m i \u001b[38;5;129;01min\u001b[39;00m \u001b[38;5;28mrange\u001b[39m(N):\n\u001b[1;32m    152\u001b[0m     \u001b[38;5;28;01mif\u001b[39;00m reverse_vec[i]:\n\u001b[0;32m--> 153\u001b[0m         rep_slope[i] \u001b[38;5;241m=\u001b[39m linregress(\u001b[43mtime\u001b[49m[trough_idx[i]:trough_idx[i]\u001b[38;5;241m+\u001b[39mwindow],w[trough_idx[i]:trough_idx[i]\u001b[38;5;241m+\u001b[39mwindow])[\u001b[38;5;241m0\u001b[39m]\n\u001b[1;32m    154\u001b[0m     \u001b[38;5;28;01melse\u001b[39;00m:\n\u001b[1;32m    155\u001b[0m         rep_slope[i] \u001b[38;5;241m=\u001b[39m \u001b[38;5;241m-\u001b[39mlinregress(time[peak_idx[i]:peak_idx[i]\u001b[38;5;241m+\u001b[39mwindow],w[peak_idx[i]:peak_idx[i]\u001b[38;5;241m+\u001b[39mwindow])[\u001b[38;5;241m0\u001b[39m]\n",
      "\u001b[0;31mNameError\u001b[0m: name 'time' is not defined"
     ]
    }
   ],
   "source": [
    "# main_dir = '/moto/stats/users/hy2562/projects/ephys_atlas/benchmark_datasets'\n",
    "main_dir = '/moto/stats/users/hy2562/projects/ephys_atlas/improved_destripe/destripe_and_subtract'\n",
    "for i in range(1):# range(len(Benchmark_pids)):\n",
    "    pID = Benchmark_pids[i]\n",
    "    eID, probe = one.pid2eid(pID)\n",
    "    # out_dir = main_dir + '/' + eID + '_' + probe\n",
    "    out_dir = main_dir + '/eID_' + eID + '_probe_' + probe + '_pID_' + pID\n",
    "    h5_path = out_dir + '/' + 'subtraction.h5'\n",
    "    batch_size = 10000\n",
    "    fs = 30000\n",
    "    try:\n",
    "        with h5py.File(h5_path) as h5:\n",
    "            spike_idx = h5[\"spike_index\"][:]\n",
    "            geom = h5[\"geom\"][:]\n",
    "            channel_index = h5[\"channel_index\"][:]\n",
    "    except:\n",
    "        continue\n",
    "\n",
    "    spike_num = len(spike_idx)\n",
    "    h5 = h5py.File(h5_path)\n",
    "    batch_n = int(np.floor(spike_num/batch_size))\n",
    "\n",
    "    peak_value = np.zeros((spike_num,))\n",
    "    ptp_duration = np.zeros((spike_num,))\n",
    "    halfpeak_duration = np.zeros((spike_num,))\n",
    "    peak_trough_ratio = np.zeros((spike_num,))\n",
    "    spatial_spread = np.zeros((spike_num,))\n",
    "    # velocity = np.zeros((spike_num,))\n",
    "    spatial_non_threshold = np.zeros((spike_num,))\n",
    "    reploarization_slope = np.zeros((spike_num,))\n",
    "    recovery_slopes = np.zeros((spike_num,))\n",
    "    \n",
    "\n",
    "    ci_err = np.zeros((spike_num,))\n",
    "\n",
    "    for i in tqdm(range(batch_n)):\n",
    "        start_idx = i * batch_size\n",
    "        end_idx = (i + 1) * batch_size\n",
    "        waveforms = h5[\"denoised_waveforms\"][start_idx:end_idx]\n",
    "        spk_idx = spike_idx[start_idx:end_idx, 1]\n",
    "\n",
    "        waveforms = signal.resample(waveforms, 1210, axis = 1)\n",
    "        peak_value[start_idx:end_idx] = cell_type_feature.peak_value(waveforms)\n",
    "        ptp_duration[start_idx:end_idx] = cell_type_feature.ptp_duration(waveforms)\n",
    "        halfpeak_duration[start_idx:end_idx] = cell_type_feature.halfpeak_duration(waveforms)\n",
    "        peak_trough_ratio[start_idx:end_idx] = cell_type_feature.peak_trough_ratio(waveforms)\n",
    "        spatial_spread[start_idx:end_idx] = cell_type_feature.spatial_spread(waveforms, geom, channel_index, spk_idx)\n",
    "        \n",
    "        spatial_non_threshold[start_idx:end_idx] = cell_type_feature.spatial_spread_weighted_dist(waveforms, geom, channel_index, spk_idx)\n",
    "        reploarization_slope[start_idx:end_idx] = cell_type_feature.reploarization_slope(waveforms, fs*10)\n",
    "        recovery_slope[start_idx:end_idx] = cell_type_feature.recovery_slope(waveforms, fs*10)\n",
    "        \n",
    "        \n",
    "        # v, ci = cell_type_feature.velocity(waveforms, geom, channel_index, n_workers=64 )\n",
    "        # velocity[i * batch_size: (i + 1) * batch_size] = v\n",
    "        # ci_err[i * batch_size: (i + 1) * batch_size] = ci\n",
    "\n",
    "    start_idx = batch_n * batch_size\n",
    "    end_idx = None\n",
    "    waveforms = h5[\"denoised_waveforms\"][start_idx:end_idx]\n",
    "    spk_idx = spike_idx[start_idx:end_idx, 1]\n",
    "    \n",
    "    waveforms = signal.resample(waveforms, 1210, axis = 1)\n",
    "    peak_value[start_idx:end_idx] = cell_type_feature.peak_value(waveforms)\n",
    "    ptp_duration[start_idx:end_idx] = cell_type_feature.ptp_duration(waveforms)\n",
    "    halfpeak_duration[start_idx:end_idx] = cell_type_feature.halfpeak_duration(waveforms)\n",
    "    peak_trough_ratio[start_idx:end_idx] = cell_type_feature.peak_trough_ratio(waveforms)\n",
    "    spatial_spread[start_idx:end_idx] = cell_type_feature.spatial_spread(waveforms, geom, channel_index)\n",
    "    # v, ci = cell_type_feature.velocity(waveforms, geom, channel_index, n_workers=64 )\n",
    "    # velocity[start_idx:end_idx] = v\n",
    "    # ci_err[start_idx:end_idx] = ci\n",
    "    \n",
    "    spatial_non_threshold[start_idx:end_idx] = cell_type_feature.spatial_spread_weighted_dist(waveforms, geom, channel_index, spk_idx)\n",
    "    reploarization_slope[start_idx:end_idx] = cell_type_feature.reploarization_slope(waveforms, fs*10)\n",
    "    recovery_slope[start_idx:end_idx] = cell_type_feature.recovery_slope(waveforms, fs*10)\n",
    "\n",
    "    h5.close()\n",
    "    \n",
    "    np.save(out_dir + '/peak_value.npy', peak_value)\n",
    "    np.save(out_dir + '/ptp_duration.npy', ptp_duration)\n",
    "    np.save(out_dir + '/halfpeak_duration.npy', halfpeak_duration)\n",
    "    np.save(out_dir + '/peak_trough_ratio.npy', peak_trough_ratio)\n",
    "    np.save(out_dir + '/spatial_spread.npy', spatial_spread)\n",
    "    # np.save(out_dir + '/velocity_th_25.npy', velocity)\n",
    "    # np.save(out_dir + '/velocity_ci_th_25.npy', ci_err)\n",
    "    np.save(out_dir + '/non_threshold_spatial_spread.npy', spatial_non_threshold)\n",
    "    np.save(out_dir + '/reploarization_slope.npy', reploarization_slope)\n",
    "    np.save(out_dir + '/recovery_slope.npy', recovery_slope)"
   ]
  },
  {
   "cell_type": "code",
   "execution_count": null,
   "id": "6244eefb-9f46-479e-b7c1-1b1536e6ca86",
   "metadata": {},
   "outputs": [],
   "source": []
  }
 ],
 "metadata": {
  "kernelspec": {
   "display_name": "Python 3 (ipykernel)",
   "language": "python",
   "name": "python3"
  },
  "language_info": {
   "codemirror_mode": {
    "name": "ipython",
    "version": 3
   },
   "file_extension": ".py",
   "mimetype": "text/x-python",
   "name": "python",
   "nbconvert_exporter": "python",
   "pygments_lexer": "ipython3",
   "version": "3.10.9"
  }
 },
 "nbformat": 4,
 "nbformat_minor": 5
}
